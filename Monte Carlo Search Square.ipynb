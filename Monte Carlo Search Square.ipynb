{
 "metadata": {
  "name": ""
 },
 "nbformat": 3,
 "nbformat_minor": 0,
 "worksheets": [
  {
   "cells": [
    {
     "cell_type": "code",
     "collapsed": false,
     "input": [
      "import numpy as np\n",
      "import matplotlib.pyplot as plt\n",
      "from matplotlib.path import Path\n",
      "import matplotlib.patches as patches"
     ],
     "language": "python",
     "metadata": {},
     "outputs": [],
     "prompt_number": 35
    },
    {
     "cell_type": "code",
     "collapsed": false,
     "input": [
      "def rotate_polygon(polygon, angle, x, y):\n",
      "    \"\"\"Rotates a 2D polygon around (x,y)\"\"\"\n",
      "    \n",
      "    polygon = polygon - np.array([x,y])\n",
      "    transform = np.array([[np.cos(angle), -np.sin(angle)],\n",
      "                         [np.sin(angle), np.cos(angle)]])\n",
      "    return np.dot(polygon, transform) + np.array([x,y])"
     ],
     "language": "python",
     "metadata": {},
     "outputs": [],
     "prompt_number": 36
    },
    {
     "cell_type": "code",
     "collapsed": false,
     "input": [
      "def search_square(nb_iterations):\n",
      "\n",
      "    max_square = [0.5, 0.5, 0, 0.1]\n",
      "    max_scale = 0.1\n",
      "\n",
      "    for i in range(1, nb_iterations):\n",
      "        x = np.random.uniform(0, 1)\n",
      "        y = np.random.uniform(0, 1)\n",
      "        angle = np.random.uniform(0,2*np.pi)\n",
      "        scale = np.random.uniform(0, 1)\n",
      "        \n",
      "        verts = np.array([(-0.5, -0.5), (-0.5, 0.5), (0.5, 0.5), (0.5, -0.5), (-0.5, -0.5)])\n",
      "        verts = scale * rotate_polygon(verts, angle, 0, 0) + np.array([x,y])\n",
      "    \n",
      "        if (verts > 0).all() and (verts < 1).all() and scale > max_scale:\n",
      "            max_square = [x, y, angle, scale]\n",
      "            max_scale = scale\n",
      "            \n",
      "    return max_square"
     ],
     "language": "python",
     "metadata": {},
     "outputs": [],
     "prompt_number": 37
    },
    {
     "cell_type": "code",
     "collapsed": false,
     "input": [
      "def plot_polygon(polygon):\n",
      "    \"\"\"Plots a polygon (square) with center (x,y)\"\"\"\n",
      "\n",
      "    (x, y, angle, scale) = polygon\n",
      "\n",
      "    verts = np.array([(-0.5, -0.5), (-0.5, 0.5), (0.5, 0.5), (0.5, -0.5), (-0.5, -0.5)])\n",
      "    verts = scale * rotate_polygon(verts, angle, 0, 0) + np.array([x,y])\n",
      "\n",
      "    codes = [Path.MOVETO,\n",
      "         Path.LINETO,\n",
      "         Path.LINETO,\n",
      "         Path.LINETO,\n",
      "         Path.CLOSEPOLY,\n",
      "         ]\n",
      "\n",
      "    path = Path(verts, codes)\n",
      "\n",
      "    fig = plt.figure()\n",
      "    ax = fig.add_subplot(111)\n",
      "    patch = patches.PathPatch(path, facecolor='orange', lw=2)\n",
      "    ax.add_patch(patch)\n",
      "    plt.xlim(0,1)\n",
      "    plt.ylim(0,1)\n",
      "    plt.gca().set_aspect('equal', adjustable='box')\n",
      "    plt.show()"
     ],
     "language": "python",
     "metadata": {},
     "outputs": [],
     "prompt_number": 38
    },
    {
     "cell_type": "code",
     "collapsed": false,
     "input": [
      "def main():\n",
      "    square = search_square(1000)\n",
      "    plot_polygon(square)"
     ],
     "language": "python",
     "metadata": {},
     "outputs": [],
     "prompt_number": 51
    },
    {
     "cell_type": "code",
     "collapsed": false,
     "input": [
      "main()"
     ],
     "language": "python",
     "metadata": {},
     "outputs": [],
     "prompt_number": 52
    },
    {
     "cell_type": "code",
     "collapsed": false,
     "input": [],
     "language": "python",
     "metadata": {},
     "outputs": [],
     "prompt_number": 52
    },
    {
     "cell_type": "code",
     "collapsed": false,
     "input": [],
     "language": "python",
     "metadata": {},
     "outputs": []
    }
   ],
   "metadata": {}
  }
 ]
}