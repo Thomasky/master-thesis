{
 "metadata": {
  "name": ""
 },
 "nbformat": 3,
 "nbformat_minor": 0,
 "worksheets": [
  {
   "cells": [
    {
     "cell_type": "code",
     "collapsed": false,
     "input": [
      "import numpy as np"
     ],
     "language": "python",
     "metadata": {},
     "outputs": [],
     "prompt_number": 60
    },
    {
     "cell_type": "code",
     "collapsed": false,
     "input": [
      "max_square = []\n",
      "\n",
      "x = np.random.uniform(0, 1)\n",
      "y = np.random.uniform(0, 1)\n",
      "scale = np.random.uniform(0, 1)\n",
      "angle = np.random.uniform(0,2*np.pi)\n",
      "\n",
      "max_square = [x, y, scale, angle]"
     ],
     "language": "python",
     "metadata": {},
     "outputs": [],
     "prompt_number": 65
    },
    {
     "cell_type": "code",
     "collapsed": false,
     "input": [
      "import matplotlib.pyplot as plt\n",
      "from matplotlib.path import Path\n",
      "import matplotlib.patches as patches\n",
      "\n",
      "(x, y, scale, angle) = max_square\n",
      "\n",
      "verts = np.array([(-0.5, -0.5), (-0.5, 0.5), (0.5, 0.5), (0.5, -0.5), (-0.5, -0.5)])\n",
      "\n",
      "verts = scale * rotate_polygon(verts, angle, 0, 0) + np.array([x,y])\n",
      "\n",
      "print verts\n",
      "\n",
      "codes = [Path.MOVETO,\n",
      "         Path.LINETO,\n",
      "         Path.LINETO,\n",
      "         Path.LINETO,\n",
      "         Path.CLOSEPOLY,\n",
      "         ]\n",
      "\n",
      "path = Path(verts, codes)\n",
      "\n",
      "fig = plt.figure()\n",
      "ax = fig.add_subplot(111)\n",
      "patch = patches.PathPatch(path, facecolor='orange', lw=2)\n",
      "ax.add_patch(patch)\n",
      "plt.axis('equal')\n",
      "plt.axis([0,1,0,1])\n",
      "plt.show()"
     ],
     "language": "python",
     "metadata": {},
     "outputs": [
      {
       "output_type": "stream",
       "stream": "stdout",
       "text": [
        "[[ 0.10468291  0.77873041]\n",
        " [ 0.40343843  1.23586827]\n",
        " [ 0.8605763   0.93711275]\n",
        " [ 0.56182077  0.47997489]\n",
        " [ 0.10468291  0.77873041]]\n"
       ]
      }
     ],
     "prompt_number": 66
    },
    {
     "cell_type": "code",
     "collapsed": false,
     "input": [
      "def rotate_polygon(polygon, angle, x, y):\n",
      "    \"\"\"Rotates a 2D polygon around (x,y)\"\"\"\n",
      "    \n",
      "    polygon = polygon - np.array([x,y])\n",
      "    transform = np.array([[np.cos(angle), -np.sin(angle)],\n",
      "                         [np.sin(angle), np.cos(angle)]])\n",
      "    return np.dot(polygon, transform) + np.array([x,y])"
     ],
     "language": "python",
     "metadata": {},
     "outputs": [],
     "prompt_number": 36
    },
    {
     "cell_type": "code",
     "collapsed": false,
     "input": [],
     "language": "python",
     "metadata": {},
     "outputs": []
    }
   ],
   "metadata": {}
  }
 ]
}